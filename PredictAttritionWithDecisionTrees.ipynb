{
 "cells": [
  {
   "cell_type": "code",
   "execution_count": 19,
   "id": "74a679dc",
   "metadata": {},
   "outputs": [],
   "source": [
    "import pandas as pd\n",
    "import matplotlib.pyplot as plt\n",
    "from sklearn.tree import DecisionTreeClassifier\n",
    "from sklearn.metrics import accuracy_score, classification_report, confusion_matrix\n",
    "from sklearn.model_selection import train_test_split\n",
    "import seaborn as sns\n",
    "df = pd.read_csv('WA_Fn-UseC_-HR-Employee-Attrition.csv')"
   ]
  },
  {
   "cell_type": "code",
   "execution_count": 20,
   "id": "d8299f0a",
   "metadata": {},
   "outputs": [],
   "source": [
    "# Change the data in order to feed it to the model\n",
    "df['Attrition'] = df['Attrition'].apply(lambda x: 1 if str(x).strip().lower() == 'yes' else 0)\n",
    "df['Gender'] = df['Gender'].apply(lambda x: 1 if str(x).strip().lower() == 'male' else 0)\n",
    "df['Over18'] = df['Over18'].apply(lambda x: 1 if str(x).strip().lower() == 'y' else 0)\n",
    "df['OverTime'] = df['OverTime'].apply(lambda x: 1 if str(x).strip().lower() == 'yes' else 0)"
   ]
  },
  {
   "cell_type": "code",
   "execution_count": 21,
   "id": "5a6f8fa2",
   "metadata": {},
   "outputs": [],
   "source": [
    "df = df.join(pd.get_dummies(df['BusinessTravel']).astype(bool)).drop('BusinessTravel',axis=1)\n",
    "df = df.join(pd.get_dummies(df['Department'],prefix = 'Department').astype(bool)).drop('Department',axis=1)\n",
    "df = df.join(pd.get_dummies(df['EducationField'],prefix = 'Education').astype(bool)).drop('EducationField',axis=1)\n",
    "df = df.join(pd.get_dummies(df['JobRole'],prefix = 'Role').astype(bool)).drop('JobRole',axis=1)\n",
    "df = df.join(pd.get_dummies(df['MaritalStatus'],prefix = 'Status').astype(bool)).drop('MaritalStatus',axis=1)"
   ]
  },
  {
   "cell_type": "code",
   "execution_count": 22,
   "id": "3fd08f46",
   "metadata": {},
   "outputs": [],
   "source": [
    "df = df.applymap(lambda x: 1 if x is True else 0 if x is False else x)"
   ]
  },
  {
   "cell_type": "markdown",
   "id": "8e85d33d",
   "metadata": {},
   "source": [
    "# Model Training"
   ]
  },
  {
   "cell_type": "code",
   "execution_count": 23,
   "id": "6f8704cf",
   "metadata": {},
   "outputs": [],
   "source": [
    "# We drop the attrition from the X since it is the target \n",
    "X, y = df.drop('Attrition', axis = 1), df['Attrition']\n",
    "X_train, X_test, y_train, y_test = train_test_split(X, y, train_size = 0.8)"
   ]
  },
  {
   "cell_type": "code",
   "execution_count": 24,
   "id": "5e5ad606",
   "metadata": {},
   "outputs": [
    {
     "data": {
      "text/plain": [
       "DecisionTreeClassifier(random_state=42)"
      ]
     },
     "execution_count": 24,
     "metadata": {},
     "output_type": "execute_result"
    }
   ],
   "source": [
    "# Use decision Trees classifier\n",
    "dt_model = DecisionTreeClassifier(random_state=42)\n",
    "dt_model.fit(X_train, y_train)"
   ]
  },
  {
   "cell_type": "code",
   "execution_count": 25,
   "id": "978a43e0",
   "metadata": {},
   "outputs": [],
   "source": [
    "# Use the model to predict\n",
    "y_pred = dt_model.predict(X_test)"
   ]
  },
  {
   "cell_type": "code",
   "execution_count": 26,
   "id": "d81c2106",
   "metadata": {},
   "outputs": [],
   "source": [
    "# Evaluate the performance of the model\n",
    "accuracy = accuracy_score(y_test, y_pred)\n",
    "classification_rep = classification_report(y_test, y_pred)\n",
    "confusion_mat = confusion_matrix(y_test, y_pred)"
   ]
  },
  {
   "cell_type": "markdown",
   "id": "5a2e88e6",
   "metadata": {},
   "source": [
    "#### Visualization of Results"
   ]
  },
  {
   "cell_type": "code",
   "execution_count": 27,
   "id": "5c87af6e",
   "metadata": {},
   "outputs": [
    {
     "data": {
      "image/png": "[encoded data removed]",
      "text/plain": [
       "<Figure size 576x432 with 2 Axes>"
      ]
     },
     "metadata": {
      "needs_background": "light"
     },
     "output_type": "display_data"
    }
   ],
   "source": [
    "cm = confusion_matrix(y_test, y_pred)\n",
    "plt.figure(figsize=(8,6))\n",
    "sns.heatmap(cm, annot=True, fmt='d', cmap='Blues', xticklabels=['Stayed', 'Left'], yticklabels=['Stayed', 'Left'])\n",
    "plt.xlabel('Predicted')\n",
    "plt.ylabel('True')\n",
    "plt.title('Confusion Matrix')\n",
    "plt.show()"
   ]
  },
  {
   "cell_type": "code",
   "execution_count": 29,
   "id": "c55e7d13",
   "metadata": {},
   "outputs": [],
   "source": [
    "# Create a dataframe to summarize the predictions\n",
    "predicted_counts = pd.Series(y_pred).value_counts().sort_index()\n",
    "predicted_counts.index = ['Stay', 'Leave']"
   ]
  },
  {
   "cell_type": "code",
   "execution_count": 31,
   "id": "6e7b83c5",
   "metadata": {},
   "outputs": [
    {
     "data": {
      "image/png": "[encoded data removed]",
      "text/plain": [
       "<Figure size 576x432 with 1 Axes>"
      ]
     },
     "metadata": {
      "needs_background": "light"
     },
     "output_type": "display_data"
    }
   ],
   "source": [
    "plt.figure(figsize=(8,6))\n",
    "predicted_counts.plot(kind='bar', color=['blue', 'orange'])\n",
    "plt.title('Predicted Employee Attrition (Stay vs Leave)')\n",
    "plt.xlabel('Attrition Prediction')\n",
    "plt.ylabel('Number of Employees')\n",
    "plt.xticks(rotation=0)\n",
    "plt.show()"
   ]
  },
  {
   "cell_type": "code",
   "execution_count": null,
   "id": "3ec93b49",
   "metadata": {},
   "outputs": [],
   "source": []
  }
 ],
 "metadata": {
  "kernelspec": {
   "display_name": "Python 3 (ipykernel)",
   "language": "python",
   "name": "python3"
  },
  "language_info": {
   "codemirror_mode": {
    "name": "ipython",
    "version": 3
   },
   "file_extension": ".py",
   "mimetype": "text/x-python",
   "name": "python",
   "nbconvert_exporter": "python",
   "pygments_lexer": "ipython3",
   "version": "3.9.12"
  }
 },
 "nbformat": 4,
 "nbformat_minor": 5
}
